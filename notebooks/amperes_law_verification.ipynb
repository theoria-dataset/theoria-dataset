{
  "nbformat": 4,
  "nbformat_minor": 0,
  "metadata": {
    "colab": {
      "provenance": []
    },
    "kernelspec": {
      "name": "python3",
      "display_name": "Python 3"
    },
    "language_info": {
      "name": "python"
    }
  },
  "cells": [
    {
      "cell_type": "markdown",
      "metadata": {},
      "source": [
        "# Ampère's Circuital Law\n",
        "\n",
        "This notebook contains the programmatic verification for the **Ampère's Circuital Law** entry from the THEORIA dataset.\n",
        "\n",
        "**Entry ID:** amperes_law  \n",
        "**Required Library:** sympy 1.12.0\n",
        "\n",
        "## Description\n",
        "Ampère's circuital law relates the circulation of the magnetic field around a closed loop to the electric current passing through any surface bounded by that loop. Originally formulated for steady currents, Maxwell extended it with the displacement current term to maintain consistency with charge conservation. This law is fundamental for calculating magnetic fields in symmetric geometries and forms one of Maxwell's four equations describing classical electromagnetism.\n",
        "\n",
        "## Installation\n",
        "First, let's install the required library:"
      ]
    },
    {
      "cell_type": "code",
      "metadata": {},
      "source": [
        "# Install required library with exact version\n",
        "!pip install sympy==1.12.0"
      ],
      "execution_count": null,
      "outputs": []
    },
    {
      "cell_type": "markdown",
      "metadata": {},
      "source": [
        "## Programmatic Verification\n",
        "\n",
        "The following code verifies the derivation mathematically:"
      ]
    },
    {
      "cell_type": "code",
      "metadata": {},
      "source": [
        "import sympy as sp\n",
        "\n",
        "print('Ampère\\'s Law Verification')\n",
        "print('=' * 40)\n",
        "\n",
        "# Test 1: Infinite straight wire\n",
        "print('Test 1: Magnetic field of infinite straight wire')\n",
        "mu0, I, r = sp.symbols('mu0 I r', positive=True)\n",
        "\n",
        "# Step 5: B-field for straight wire\n",
        "B_wire = (mu0 * I) / (2 * sp.pi * r)\n",
        "print(f'B(r) = {B_wire}')\n",
        "\n",
        "# Step 3: Circulation around circular path\n",
        "circulation = B_wire * 2 * sp.pi * r\n",
        "circulation_simplified = sp.simplify(circulation)\n",
        "print(f'Circulation = B × 2πr = {circulation_simplified}')\n",
        "\n",
        "# Step 6: Verify Ampère\\'s law\n",
        "ampere_rhs = mu0 * I\n",
        "assert circulation_simplified == ampere_rhs\n",
        "print(f'Ampère\\'s law verified: {circulation_simplified} = {ampere_rhs}')\n",
        "\n",
        "# Test 2: Solenoid magnetic field\n",
        "print('\\nTest 2: Long solenoid magnetic field')\n",
        "n, length = sp.symbols('n L', positive=True)  # turns per unit length, length\n",
        "\n",
        "# Inside solenoid: B = μ₀nI\n",
        "B_solenoid_inside = mu0 * n * I\n",
        "print(f'B inside solenoid = {B_solenoid_inside}')\n",
        "\n",
        "# Apply Ampère\\'s law to rectangular loop (length L inside solenoid)\n",
        "# Only the side inside contributes to circulation\n",
        "circulation_solenoid = B_solenoid_inside * length\n",
        "print(f'Circulation = B × L = {circulation_solenoid}')\n",
        "\n",
        "# Enclosed current = n*L turns × I per turn\n",
        "I_enclosed_solenoid = n * length * I\n",
        "ampere_rhs_solenoid = mu0 * I_enclosed_solenoid\n",
        "\n",
        "assert sp.simplify(circulation_solenoid - ampere_rhs_solenoid) == 0\n",
        "print(f'Solenoid verification: {circulation_solenoid} = {ampere_rhs_solenoid}')\n",
        "\n",
        "# Test 3: Stokes' theorem consistency (step 9)\n",
        "print('\\nTest 3: Stokes\\' theorem consistency')\n",
        "from sympy.vector import CoordSys3D, curl, divergence\n",
        "\n",
        "# Set up coordinate system\n",
        "C = CoordSys3D('C')\n",
        "x, y, z = C.x, C.y, C.z\n",
        "\n",
        "# Test divergence of curl is zero\n",
        "Bx = sp.Function('Bx')(x, y, z)\n",
        "By = sp.Function('By')(x, y, z)\n",
        "Bz = sp.Function('Bz')(x, y, z)\n",
        "B_vec = Bx*C.i + By*C.j + Bz*C.k\n",
        "\n",
        "curl_B = curl(B_vec)\n",
        "div_curl_B = divergence(curl_B)\n",
        "\n",
        "# This should be identically zero\n",
        "assert div_curl_B == 0\n",
        "print('Verified: ∇ · (∇ × B) = 0 (vector identity)')\n",
        "\n",
        "# Test 4: Numerical verification with specific values\n",
        "print('\\nTest 4: Numerical verification')\n",
        "test_values = {mu0: 4*sp.pi*1e-7, I: 10, r: 0.1}  # 10 A current, 0.1 m distance\n",
        "\n",
        "B_numerical = float(B_wire.subs(test_values))\n",
        "circulation_numerical = float(circulation_simplified.subs(test_values))\n",
        "expected_numerical = float(ampere_rhs.subs(test_values))\n",
        "\n",
        "print(f'Numerical test: I = 10 A, r = 0.1 m')\n",
        "print(f'B-field = {B_numerical:.2e} T')\n",
        "print(f'Circulation = {circulation_numerical:.2e} T⋅m')\n",
        "print(f'μ₀I = {expected_numerical:.2e} T⋅m')\n",
        "\n",
        "assert abs(circulation_numerical - expected_numerical) < 1e-15\n",
        "print('Numerical verification passed!')\n",
        "\n",
        "print('\\nAll Ampère\\'s law verifications completed successfully!')\n"
      ],
      "execution_count": null,
      "outputs": []
    },
    {
      "cell_type": "markdown",
      "metadata": {},
      "source": [
        "## Source\n",
        "\n",
        "📖 **View this entry:** [theoria-dataset.org/entries.html?entry=amperes_law.json](https://theoria-dataset.org/entries.html?entry=amperes_law.json)\n",
        "\n",
        "This verification code is part of the [THEORIA dataset](https://github.com/theoria-dataset/theoria-dataset), ",
        "a curated collection of theoretical physics derivations with programmatic verification.\n",
        "\n",
        "**License:** CC-BY 4.0"
      ]
    }
  ]
}