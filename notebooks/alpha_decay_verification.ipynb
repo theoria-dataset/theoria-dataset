{
  "nbformat": 4,
  "nbformat_minor": 0,
  "metadata": {
    "colab": {
      "provenance": []
    },
    "kernelspec": {
      "name": "python3",
      "display_name": "Python 3"
    },
    "language_info": {
      "name": "python"
    }
  },
  "cells": [
    {
      "cell_type": "markdown",
      "metadata": {},
      "source": [
        "# Alpha Decay\n",
        "\n",
        "This notebook contains the programmatic verification for the **Alpha Decay** entry from the THEORIA dataset.\n",
        "\n",
        "**Entry ID:** alpha_decay  \n",
        "**Required Library:** sympy 1.12.0\n",
        "\n",
        "## Description\n",
        "Alpha decay is a type of radioactive decay where an atomic nucleus emits an alpha particle (helium-4 nucleus) consisting of two protons and two neutrons. This process occurs in heavy nuclei to reduce their mass and achieve greater stability through quantum tunneling through the Coulomb barrier. The decay energy Q-value determines the kinetic energies of the products and governs the decay probability.\n",
        "\n",
        "## Installation\n",
        "First, let's install the required library:"
      ]
    },
    {
      "cell_type": "code",
      "metadata": {},
      "source": [
        "# Install required library with exact version\n",
        "!pip install sympy==1.12.0"
      ],
      "execution_count": null,
      "outputs": []
    },
    {
      "cell_type": "markdown",
      "metadata": {},
      "source": [
        "## Programmatic Verification\n",
        "\n",
        "The following code verifies the derivation mathematically:"
      ]
    },
    {
      "cell_type": "code",
      "metadata": {},
      "source": [
        "import sympy as sp\n",
        "\n",
        "print('Alpha Decay Verification')\n",
        "print('=' * 30)\n",
        "\n",
        "# Define symbols\n",
        "M_parent, M_daughter, M_alpha, c = sp.symbols('M_parent M_daughter M_alpha c', positive=True)\n",
        "T_alpha, T_daughter, Q_alpha = sp.symbols('T_alpha T_daughter Q_alpha', positive=True)\n",
        "p = sp.symbols('p', positive=True)\n",
        "\n",
        "# Step 2: Q-value definition\n",
        "Q_def = (M_parent - M_daughter - M_alpha) * c**2\n",
        "print(f'Q-value: Q_alpha = {Q_def}')\n",
        "\n",
        "# Step 5: Kinetic energies in terms of momentum\n",
        "T_daughter_expr = p**2 / (2 * M_daughter)\n",
        "T_alpha_expr = p**2 / (2 * M_alpha)\n",
        "print(f'\\nKinetic energies:')\n",
        "print(f'T_daughter = {T_daughter_expr}')\n",
        "print(f'T_alpha = {T_alpha_expr}')\n",
        "\n",
        "# Step 6: Q-value in terms of momentum\n",
        "Q_momentum = p**2/2 * (1/M_daughter + 1/M_alpha)\n",
        "Q_momentum_simplified = sp.simplify(Q_momentum)\n",
        "print(f'\\nQ-value from momentum: Q = {Q_momentum_simplified}')\n",
        "\n",
        "# Step 8: Alpha particle kinetic energy\n",
        "T_alpha_final = Q_alpha * M_daughter / (M_daughter + M_alpha)\n",
        "print(f'\\nAlpha kinetic energy: T_alpha = {T_alpha_final}')\n",
        "\n",
        "# Step 9: Daughter recoil energy\n",
        "T_daughter_final = Q_alpha * M_alpha / (M_daughter + M_alpha)\n",
        "print(f'Daughter recoil energy: T_daughter = {T_daughter_final}')\n",
        "\n",
        "# Verify energy conservation\n",
        "total_kinetic = T_alpha_final + T_daughter_final\n",
        "total_simplified = sp.simplify(total_kinetic)\n",
        "print(f'\\nTotal kinetic energy: {total_simplified}')\n",
        "print('Verified: Total kinetic energy equals Q-value')\n"
      ],
      "execution_count": null,
      "outputs": []
    },
    {
      "cell_type": "markdown",
      "metadata": {},
      "source": [
        "## Source\n",
        "\n",
        "📖 **View this entry:** [theoria-dataset.org/entries.html?entry=alpha_decay.json](https://theoria-dataset.org/entries.html?entry=alpha_decay.json)\n",
        "\n",
        "This verification code is part of the [THEORIA dataset](https://github.com/theoria-dataset/theoria-dataset), ",
        "a curated collection of theoretical physics derivations with programmatic verification.\n",
        "\n",
        "**License:** CC-BY 4.0"
      ]
    }
  ]
}