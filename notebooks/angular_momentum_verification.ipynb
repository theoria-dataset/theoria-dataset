{
  "nbformat": 4,
  "nbformat_minor": 0,
  "metadata": {
    "colab": {
      "provenance": []
    },
    "kernelspec": {
      "name": "python3",
      "display_name": "Python 3"
    },
    "language_info": {
      "name": "python"
    }
  },
  "cells": [
    {
      "cell_type": "markdown",
      "metadata": {},
      "source": [
        "# Angular Momentum\n",
        "\n",
        "This notebook contains the programmatic verification for the **Angular Momentum** entry from the THEORIA dataset.\n",
        "\n",
        "**Entry ID:** angular_momentum  \n",
        "**Required Library:** math (stdlib)\n",
        "\n",
        "## Description\n",
        "Angular momentum is the rotational analog of linear momentum, representing the quantity of rotation of an object. It depends on the object's moment of inertia, angular velocity, and the distribution of mass relative to the axis of rotation.\n",
        "\n",
        "## Installation\n",
        "First, let's install the required library:"
      ]
    },
    {
      "cell_type": "code",
      "metadata": {},
      "source": [
        "# Install required library with exact version\n",
        "!pip install math==(stdlib)"
      ],
      "execution_count": null,
      "outputs": []
    },
    {
      "cell_type": "markdown",
      "metadata": {},
      "source": [
        "## Programmatic Verification\n",
        "\n",
        "The following code verifies the derivation mathematically:"
      ]
    },
    {
      "cell_type": "code",
      "metadata": {},
      "source": [
        "import math\n",
        "\n",
        "print('Angular Momentum Verification\\n')\n",
        "print('=' * 40)\n",
        "\n",
        "# Test 1: Point mass in circular motion\n",
        "def verify_point_mass_circular():\n",
        "    \"\"\"Verify angular momentum for point mass in circular motion\"\"\"\n",
        "    print('Test 1: Point mass in circular motion')\n",
        "    \n",
        "    m = 2.0     # mass in kg\n",
        "    r = 1.5     # radius in m\n",
        "    omega = 3.0 # angular velocity in rad/s\n",
        "    v = omega * r # tangential velocity\n",
        "    \n",
        "    # Angular momentum magnitude\n",
        "    L_magnitude = m * v * r  # L = m v r for circular motion\n",
        "    \n",
        "    # Using I*omega (moment of inertia for point mass: I = m r^2)\n",
        "    I = m * r**2\n",
        "    L_rigid_body = I * omega\n",
        "    \n",
        "    print(f'  Mass: {m} kg')\n",
        "    print(f'  Radius: {r} m')\n",
        "    print(f'  Angular velocity: {omega} rad/s')\n",
        "    print(f'  Tangential velocity: {v} m/s')\n",
        "    print(f'  L = m v r: {L_magnitude:.3f} kg·m²/s')\n",
        "    print(f'  L = I ω: {L_rigid_body:.3f} kg·m²/s')\n",
        "    print(f'  Agreement: {math.isclose(L_magnitude, L_rigid_body)}')\n",
        "    print()\n",
        "    \n",
        "    return math.isclose(L_magnitude, L_rigid_body)\n",
        "\n",
        "# Test 2: Conservation of angular momentum\n",
        "def verify_conservation_skater():\n",
        "    \"\"\"Verify conservation using figure skater example\"\"\"\n",
        "    print('Test 2: Figure skater conservation')\n",
        "    \n",
        "    # Initial state: arms extended\n",
        "    I1 = 5.0     # kg·m²\n",
        "    omega1 = 2.0 # rad/s\n",
        "    L1 = I1 * omega1\n",
        "    \n",
        "    # Final state: arms pulled in\n",
        "    I2 = 1.5     # kg·m²\n",
        "    # Conservation: L1 = L2, so omega2 = L1/I2\n",
        "    omega2 = L1 / I2\n",
        "    L2 = I2 * omega2\n",
        "    \n",
        "    # Energy comparison\n",
        "    E1 = 0.5 * I1 * omega1**2\n",
        "    E2 = 0.5 * I2 * omega2**2\n",
        "    \n",
        "    print(f'  Initial: I = {I1} kg·m², ω = {omega1} rad/s')\n",
        "    print(f'  Final: I = {I2} kg·m², ω = {omega2:.3f} rad/s')\n",
        "    print(f'  Initial L: {L1:.3f} kg·m²/s')\n",
        "    print(f'  Final L: {L2:.3f} kg·m²/s')\n",
        "    print(f'  Angular momentum conserved: {math.isclose(L1, L2)}')\n",
        "    print(f'  Initial rotational energy: {E1:.3f} J')\n",
        "    print(f'  Final rotational energy: {E2:.3f} J')\n",
        "    print(f'  Energy increased: {E2 > E1} (work done by muscles)')\n",
        "    print()\n",
        "    \n",
        "    return math.isclose(L1, L2)\n",
        "\n",
        "# Run tests\n",
        "test1 = verify_point_mass_circular()\n",
        "test2 = verify_conservation_skater()\n",
        "\n",
        "print('Summary of Angular Momentum Verifications:')\n",
        "print(f'Point mass circular motion: {test1}')\n",
        "print(f'Figure skater conservation: {test2}')\n",
        "print(f'All tests passed: {all([test1, test2])}')\n",
        "\n",
        "print('\\nAngular momentum relationships verified successfully!')\n"
      ],
      "execution_count": null,
      "outputs": []
    },
    {
      "cell_type": "markdown",
      "metadata": {},
      "source": [
        "## Source\n",
        "\n",
        "📖 **View this entry:** [theoria-dataset.org/entries.html?entry=angular_momentum.json](https://theoria-dataset.org/entries.html?entry=angular_momentum.json)\n",
        "\n",
        "This verification code is part of the [THEORIA dataset](https://github.com/theoria-dataset/theoria-dataset), ",
        "a curated collection of theoretical physics derivations with programmatic verification.\n",
        "\n",
        "**License:** CC-BY 4.0"
      ]
    }
  ]
}