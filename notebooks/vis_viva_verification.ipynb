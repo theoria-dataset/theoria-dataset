{
  "nbformat": 4,
  "nbformat_minor": 0,
  "metadata": {
    "colab": {
      "provenance": []
    },
    "kernelspec": {
      "name": "python3",
      "display_name": "Python 3"
    },
    "language_info": {
      "name": "python"
    }
  },
  "cells": [
    {
      "cell_type": "markdown",
      "metadata": {},
      "source": [
        "# Vis-Viva Equation\n",
        "\n",
        "This notebook contains the programmatic verification for the **Vis-Viva Equation** entry from the THEORIA dataset.\n",
        "\n",
        "**Entry ID:** vis_viva  \n",
        "**Required Library:** sympy 1.12.0\n",
        "\n",
        "## Description\n",
        "The Vis-Viva equation relates the velocity of a particle in an elliptical orbit to the distance to the barycenter, mass of the body it's orbiting, and the semi-major axis of the orbit\n",
        "\n",
        "## Installation\n",
        "First, let's install the required library:"
      ]
    },
    {
      "cell_type": "code",
      "metadata": {},
      "source": [
        "# Install required library with exact version\n",
        "!pip install sympy==1.12.0"
      ],
      "execution_count": null,
      "outputs": []
    },
    {
      "cell_type": "markdown",
      "metadata": {},
      "source": [
        "## Programmatic Verification\n",
        "\n",
        "The following code verifies the derivation mathematically:"
      ]
    },
    {
      "cell_type": "code",
      "metadata": {},
      "source": [
        "# imports\n",
        "import sympy as sp\n",
        "from math import sqrt\n",
        "G, M, a, r, v = sp.symbols('G M a r v', positive=True) # set symbols\n",
        "v_visviva = sqrt(G*M*(2/r-1/a)) # calculate v using the vis-viva equation\n",
        "specific_energy_visviva = v_visviva^2/2 - (G*M)/r # calculate the specific energy using this value\n",
        "specific_energy_expected = -(G*M)/(2*a) # The specific energy calculated, without v\n",
        "assert sp.simplify(specific_energy_visviva - specific_energy_expected) == 0 # confirm that the value of the specific energy using vis-viva equation is the expected value\n"
      ],
      "execution_count": null,
      "outputs": []
    },
    {
      "cell_type": "markdown",
      "metadata": {},
      "source": [
        "## Source\n",
        "\n",
        "📖 **View this entry:** [theoria-dataset.org/entries.html?entry=vis_viva.json](https://theoria-dataset.org/entries.html?entry=vis_viva.json)\n",
        "\n",
        "This verification code is part of the [THEORIA dataset](https://github.com/theoria-dataset/theoria-dataset), ",
        "a curated collection of theoretical physics derivations with programmatic verification.\n",
        "\n",
        "**License:** CC-BY 4.0"
      ]
    }
  ]
}